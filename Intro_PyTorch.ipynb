{
  "nbformat": 4,
  "nbformat_minor": 0,
  "metadata": {
    "colab": {
      "name": "Intro-PyTorch.ipynb",
      "provenance": [],
      "authorship_tag": "ABX9TyM2XVCLQkYT9F0fWu1QP3qH",
      "include_colab_link": true
    },
    "kernelspec": {
      "name": "python3",
      "display_name": "Python 3"
    },
    "language_info": {
      "name": "python"
    }
  },
  "cells": [
    {
      "cell_type": "markdown",
      "metadata": {
        "id": "view-in-github",
        "colab_type": "text"
      },
      "source": [
        "<a href=\"https://colab.research.google.com/github/joaoSouza2121/intro-pytorch/blob/main/Intro_PyTorch.ipynb\" target=\"_parent\"><img src=\"https://colab.research.google.com/assets/colab-badge.svg\" alt=\"Open In Colab\"/></a>"
      ]
    },
    {
      "cell_type": "markdown",
      "metadata": {
        "id": "zWWn40otBolb"
      },
      "source": [
        "##Machine Learning"
      ]
    },
    {
      "cell_type": "markdown",
      "metadata": {
        "id": "W7nDLktdBtGW"
      },
      "source": [
        "##Introdução ao Framework PyTorch\n",
        "A computação em modelos de Deep Learning é feita com tensores, que são generalizações de uma matriz que pode ser indexada em mais de duas dimensões. O PyTorch é um framework que aplica operações matemáticas a tensores para então treinar modelos de Deep Learning.\n",
        "\n",
        "https://pytorch.org/\n",
        "\n",
        "TorchScript\n",
        "\n",
        "O PyTorch TorchScript ajuda a criar modelos serializáveis e otimizáveis. Depois que treinamos esses modelos, eles também podem ser executados independentemente. Isso ajuda quando estamos no estágio de implantação do modelo de um projeto de Data Science.\n",
        "\n",
        "Você pode treinar um modelo no PyTorch usando Python e depois exportá-lo via TorchScript para um ambiente de produção em que Python não esteja disponível.\n",
        "\n",
        "Treinamento Distribuído\n",
        "\n",
        "O PyTorch também oferece suporte a treinamento distribuído que permite que pesquisadores e profissionais paralelizem seus cálculos. O treinamento distribuído possibilita o uso de várias GPUs para processar lotes maiores de dados de entrada. Isso, por sua vez, reduz o tempo de computação.\n",
        "\n",
        "Suporte para Python\n",
        "\n",
        "O PyTorch tem uma interação muito boa com o Python. De fato, a codificação no PyTorch é bastante semelhante ao que fazemos em Python. "
      ]
    },
    {
      "cell_type": "code",
      "metadata": {
        "id": "bEkrt8R4Bgmu"
      },
      "source": [
        "# Imports\n",
        "import numpy\n",
        "import torch\n",
        "import torchvision"
      ],
      "execution_count": 1,
      "outputs": []
    },
    {
      "cell_type": "markdown",
      "metadata": {
        "id": "rl8Q0NLECtDi"
      },
      "source": [
        "##Criando e Manipulando Tensores\n",
        "A razão pela qual usamos o Numpy em Machine Learning é que é muito mais rápido do que as listas Python na execução de operações de matriz.\n",
        "\n",
        "Por quê? Internamente, NumPy faz a maior parte do trabalho pesado em Linguagem C, que é muito mais veloz que Python.\n",
        "\n",
        "Mas, no caso de treinar redes neurais profundas (Deep Learning), os arrays NumPy levariam meses para treinar algumas das redes de ponta. É aqui que os tensores entram em cena. O PyTorch nos fornece uma estrutura de dados chamada Tensor, que é muito semelhante à matriz ND do NumPy. Mas, diferentemente do último, os tensores podem aproveitar os recursos de uma GPU para acelerar significativamente as operações com matrizes."
      ]
    },
    {
      "cell_type": "code",
      "metadata": {
        "colab": {
          "base_uri": "https://localhost:8080/"
        },
        "id": "xYTbn7uLCnD5",
        "outputId": "0d5c797d-fdc6-4a07-9668-002707ab8d2a"
      },
      "source": [
        "# Criando um tensor\n",
        "x = torch.tensor([1., 2.])\n",
        "print(x)"
      ],
      "execution_count": 2,
      "outputs": [
        {
          "output_type": "stream",
          "text": [
            "tensor([1., 2.])\n"
          ],
          "name": "stdout"
        }
      ]
    },
    {
      "cell_type": "code",
      "metadata": {
        "colab": {
          "base_uri": "https://localhost:8080/"
        },
        "id": "cT3pQzmdDN6J",
        "outputId": "8ecc6699-7d1c-4488-900c-6e81a49f2ded"
      },
      "source": [
        "# shape\n",
        "print(x.shape)"
      ],
      "execution_count": 3,
      "outputs": [
        {
          "output_type": "stream",
          "text": [
            "torch.Size([2])\n"
          ],
          "name": "stdout"
        }
      ]
    },
    {
      "cell_type": "code",
      "metadata": {
        "id": "aYZ5g13GDX9H"
      },
      "source": [
        "# Criando um tensor\n",
        "t = torch.tensor([[1,1,1,1],\n",
        "                  [2,2,2,2],\n",
        "                  [3,3,3,3]], dtype = torch.float32)\n"
      ],
      "execution_count": 4,
      "outputs": []
    },
    {
      "cell_type": "markdown",
      "metadata": {
        "id": "E9likQEaDwvT"
      },
      "source": [
        "Para determinar a forma desse tensor, examinamos primeiro as linhas (3) e depois as colunas (4). Portanto, esse tensor é 3 x 4 de classificação (rank) 2.\n",
        "\n",
        "Rank é uma palavra comumente usada e significa apenas o número de dimensões presentes no tensor.\n",
        "\n",
        "No PyTorch, temos duas maneiras de obter a forma (shape):"
      ]
    },
    {
      "cell_type": "code",
      "metadata": {
        "colab": {
          "base_uri": "https://localhost:8080/"
        },
        "id": "v2_xZEjUDsDe",
        "outputId": "fee24854-c4ba-4a00-e57c-ca41e8b4bf96"
      },
      "source": [
        "t.size()"
      ],
      "execution_count": 5,
      "outputs": [
        {
          "output_type": "execute_result",
          "data": {
            "text/plain": [
              "torch.Size([3, 4])"
            ]
          },
          "metadata": {
            "tags": []
          },
          "execution_count": 5
        }
      ]
    },
    {
      "cell_type": "code",
      "metadata": {
        "colab": {
          "base_uri": "https://localhost:8080/"
        },
        "id": "CcLWdHkFD2Wy",
        "outputId": "ead5ca54-d42f-4ade-aee3-9ee61a0f1545"
      },
      "source": [
        "t.shape"
      ],
      "execution_count": 6,
      "outputs": [
        {
          "output_type": "execute_result",
          "data": {
            "text/plain": [
              "torch.Size([3, 4])"
            ]
          },
          "metadata": {
            "tags": []
          },
          "execution_count": 6
        }
      ]
    },
    {
      "cell_type": "markdown",
      "metadata": {
        "id": "n_8YGa6EFRkU"
      },
      "source": [
        "No PyTorch, o tamanho e a forma de um tensor significam a mesma coisa.\n",
        "\n",
        "Normalmente, depois de conhecermos a forma de um tensor, podemos deduzir algumas coisas. Primeiro, podemos deduzir o rank do tensor. O rank de um tensor é igual ao comprimento da forma do tensor."
      ]
    },
    {
      "cell_type": "code",
      "metadata": {
        "colab": {
          "base_uri": "https://localhost:8080/"
        },
        "id": "-eLjJTEED5I4",
        "outputId": "d2a8597d-1048-4760-c883-ca814b5177b5"
      },
      "source": [
        "len(t.shape)"
      ],
      "execution_count": 7,
      "outputs": [
        {
          "output_type": "execute_result",
          "data": {
            "text/plain": [
              "2"
            ]
          },
          "metadata": {
            "tags": []
          },
          "execution_count": 7
        }
      ]
    },
    {
      "cell_type": "code",
      "metadata": {
        "colab": {
          "base_uri": "https://localhost:8080/"
        },
        "id": "KHize153EHkH",
        "outputId": "9d5259fd-858b-4d20-ba2f-6ca859298a8d"
      },
      "source": [
        "len(x.shape)"
      ],
      "execution_count": 8,
      "outputs": [
        {
          "output_type": "execute_result",
          "data": {
            "text/plain": [
              "1"
            ]
          },
          "metadata": {
            "tags": []
          },
          "execution_count": 8
        }
      ]
    },
    {
      "cell_type": "markdown",
      "metadata": {
        "id": "9W80Ao6xENsG"
      },
      "source": [
        "Podemos deduzir o numero de elementos contidos no tensor. o numero de elementos dentro de um tenor (12 no caso de tensor t e 2 no tensor x) é igual ao produto dos valores dos componentes da forma."
      ]
    },
    {
      "cell_type": "code",
      "metadata": {
        "colab": {
          "base_uri": "https://localhost:8080/"
        },
        "id": "REfebHCAELgQ",
        "outputId": "ab4b339d-b2d9-49b7-8807-dbf4819b2da2"
      },
      "source": [
        "torch.tensor(t.shape).prod()"
      ],
      "execution_count": 9,
      "outputs": [
        {
          "output_type": "execute_result",
          "data": {
            "text/plain": [
              "tensor(12)"
            ]
          },
          "metadata": {
            "tags": []
          },
          "execution_count": 9
        }
      ]
    },
    {
      "cell_type": "code",
      "metadata": {
        "colab": {
          "base_uri": "https://localhost:8080/"
        },
        "id": "s5uMcOt4E5PG",
        "outputId": "8241716f-8342-4cb7-9538-6204c25cedb8"
      },
      "source": [
        "torch.tensor(x.shape).prod()"
      ],
      "execution_count": 10,
      "outputs": [
        {
          "output_type": "execute_result",
          "data": {
            "text/plain": [
              "tensor(2)"
            ]
          },
          "metadata": {
            "tags": []
          },
          "execution_count": 10
        }
      ]
    },
    {
      "cell_type": "code",
      "metadata": {
        "id": "fitVM_BqE-sR"
      },
      "source": [
        "# Retornando um elemento de um tensor\n",
        "z = torch.tensor([[1., 2.],[5., 3.],[0., 4.]])\n"
      ],
      "execution_count": 11,
      "outputs": []
    },
    {
      "cell_type": "code",
      "metadata": {
        "colab": {
          "base_uri": "https://localhost:8080/"
        },
        "id": "nBAM4G29Fni3",
        "outputId": "5ab6359b-1dc4-4992-fa77-5a1fef2f6a5c"
      },
      "source": [
        "print(z)"
      ],
      "execution_count": 12,
      "outputs": [
        {
          "output_type": "stream",
          "text": [
            "tensor([[1., 2.],\n",
            "        [5., 3.],\n",
            "        [0., 4.]])\n"
          ],
          "name": "stdout"
        }
      ]
    },
    {
      "cell_type": "code",
      "metadata": {
        "colab": {
          "base_uri": "https://localhost:8080/"
        },
        "id": "nRznMjb9FrXG",
        "outputId": "d59a99e8-9bd1-4ea3-b743-02e85972b18b"
      },
      "source": [
        "# shape\n",
        "print(z.shape)"
      ],
      "execution_count": 13,
      "outputs": [
        {
          "output_type": "stream",
          "text": [
            "torch.Size([3, 2])\n"
          ],
          "name": "stdout"
        }
      ]
    },
    {
      "cell_type": "code",
      "metadata": {
        "colab": {
          "base_uri": "https://localhost:8080/"
        },
        "id": "iSbQfJnFFyxc",
        "outputId": "6e3633a3-ad02-47e1-9430-787eaf8aaa50"
      },
      "source": [
        "# retorna a primeira linha (indice 0) e segunda coluna (indice 1) -> o retorno e no formato de tensor\n",
        "print(z[0][1].item())"
      ],
      "execution_count": 14,
      "outputs": [
        {
          "output_type": "stream",
          "text": [
            "2.0\n"
          ],
          "name": "stdout"
        }
      ]
    },
    {
      "cell_type": "markdown",
      "metadata": {
        "id": "084RiNmhHK1l"
      },
      "source": [
        "Quando criamos tensores com valores randomicos, passamos apenas o numero de dimensoes."
      ]
    },
    {
      "cell_type": "code",
      "metadata": {
        "id": "Wh9F47dWHHUi"
      },
      "source": [
        "input1 = torch.randn([1, 4, 4, 2])\n",
        "input2 = torch.randn([1, 4, 4, 2])"
      ],
      "execution_count": 15,
      "outputs": []
    },
    {
      "cell_type": "code",
      "metadata": {
        "colab": {
          "base_uri": "https://localhost:8080/"
        },
        "id": "ryC_HZBaHq9i",
        "outputId": "0e4b8412-63d2-4536-823e-49cc8d18dc1a"
      },
      "source": [
        "# shape\n",
        "print(input1.shape)\n",
        "print(input2.shape)"
      ],
      "execution_count": 16,
      "outputs": [
        {
          "output_type": "stream",
          "text": [
            "torch.Size([1, 4, 4, 2])\n",
            "torch.Size([1, 4, 4, 2])\n"
          ],
          "name": "stdout"
        }
      ]
    },
    {
      "cell_type": "code",
      "metadata": {
        "colab": {
          "base_uri": "https://localhost:8080/"
        },
        "id": "WR_XJzaUH0js",
        "outputId": "93e0afe2-c88d-4390-e335-39c3d3bed28d"
      },
      "source": [
        "print(len(input1.shape))\n",
        "print(len(input2.shape))"
      ],
      "execution_count": 17,
      "outputs": [
        {
          "output_type": "stream",
          "text": [
            "4\n",
            "4\n"
          ],
          "name": "stdout"
        }
      ]
    },
    {
      "cell_type": "code",
      "metadata": {
        "colab": {
          "base_uri": "https://localhost:8080/"
        },
        "id": "4JdnOOgjIA7Y",
        "outputId": "2dc2dd02-c9ed-445b-c2ca-3bf7392dd648"
      },
      "source": [
        "input1"
      ],
      "execution_count": 18,
      "outputs": [
        {
          "output_type": "execute_result",
          "data": {
            "text/plain": [
              "tensor([[[[ 0.8719, -1.2321],\n",
              "          [-0.5157,  0.3500],\n",
              "          [ 0.3006,  0.1319],\n",
              "          [ 1.1096, -0.8107]],\n",
              "\n",
              "         [[-0.4726,  1.0526],\n",
              "          [ 0.5524,  0.4249],\n",
              "          [ 0.3507,  0.8626],\n",
              "          [ 0.6871, -0.5404]],\n",
              "\n",
              "         [[-0.2267,  1.2610],\n",
              "          [-0.2503,  0.4283],\n",
              "          [ 0.2513, -0.6923],\n",
              "          [ 0.3893, -0.5348]],\n",
              "\n",
              "         [[-0.1066, -0.9158],\n",
              "          [-0.5271, -0.9731],\n",
              "          [ 0.0313,  0.2358],\n",
              "          [-0.0831,  0.7130]]]])"
            ]
          },
          "metadata": {
            "tags": []
          },
          "execution_count": 18
        }
      ]
    },
    {
      "cell_type": "code",
      "metadata": {
        "colab": {
          "base_uri": "https://localhost:8080/"
        },
        "id": "5tTjU8fmID4G",
        "outputId": "b474c92d-5337-4049-eecc-d4f47b8749ea"
      },
      "source": [
        "input2"
      ],
      "execution_count": 19,
      "outputs": [
        {
          "output_type": "execute_result",
          "data": {
            "text/plain": [
              "tensor([[[[-1.5614,  0.3779],\n",
              "          [-0.2217, -1.6525],\n",
              "          [ 1.2993,  0.2632],\n",
              "          [-0.0389,  0.6123]],\n",
              "\n",
              "         [[ 0.7503, -1.5615],\n",
              "          [ 0.8205, -1.6762],\n",
              "          [-0.1738, -0.6095],\n",
              "          [-2.1071,  1.9696]],\n",
              "\n",
              "         [[-1.2782, -0.0621],\n",
              "          [-1.2265, -1.0696],\n",
              "          [ 0.8437,  0.0262],\n",
              "          [-0.2149,  0.5839]],\n",
              "\n",
              "         [[ 0.9943, -1.7522],\n",
              "          [-0.2523, -0.2926],\n",
              "          [ 0.8634, -0.9480],\n",
              "          [-0.5530,  0.5996]]]])"
            ]
          },
          "metadata": {
            "tags": []
          },
          "execution_count": 19
        }
      ]
    },
    {
      "cell_type": "markdown",
      "metadata": {
        "id": "ZRk5Fs8HIRHC"
      },
      "source": [
        "Considere tensores como número de listas que uma dimensão contém. por exemplo, um tensor(1, 4, 4, 2) terá:\n",
        "\n",
        "1 lista contendo 4 elementos de 4 elementos de 2 elementos\n",
        "\n",
        "  . A primeira dimensão pode conter 1 elemento.\n",
        "\n",
        "  . A segunda dimensão pode conter 4 elemento.\n",
        "\n",
        "  . A terceira dimensão pode conter 4 elemento.\n",
        "  \n",
        "  . A quarta dimensão pode conter 2 elemento."
      ]
    },
    {
      "cell_type": "markdown",
      "metadata": {
        "id": "vvd6WxxyJQF1"
      },
      "source": [
        "##Array NumPy x Tensor PyTorch"
      ]
    },
    {
      "cell_type": "code",
      "metadata": {
        "id": "8iK6xfbOIJbU"
      },
      "source": [
        "# Numpy array\n",
        "a = numpy.array(1)\n",
        "# Pytorch\n",
        "b = torch.tensor(1)"
      ],
      "execution_count": 20,
      "outputs": []
    },
    {
      "cell_type": "code",
      "metadata": {
        "colab": {
          "base_uri": "https://localhost:8080/"
        },
        "id": "sTgsZyM_JoTo",
        "outputId": "4e360a89-370d-4a4d-fcd4-fd6c9d087b01"
      },
      "source": [
        "# type\n",
        "type(a)"
      ],
      "execution_count": 21,
      "outputs": [
        {
          "output_type": "execute_result",
          "data": {
            "text/plain": [
              "numpy.ndarray"
            ]
          },
          "metadata": {
            "tags": []
          },
          "execution_count": 21
        }
      ]
    },
    {
      "cell_type": "code",
      "metadata": {
        "colab": {
          "base_uri": "https://localhost:8080/"
        },
        "id": "BPTzFcaKJsvD",
        "outputId": "c9ef7523-639a-46b1-a9de-ab0f52a523db"
      },
      "source": [
        "type(b)"
      ],
      "execution_count": 22,
      "outputs": [
        {
          "output_type": "execute_result",
          "data": {
            "text/plain": [
              "torch.Tensor"
            ]
          },
          "metadata": {
            "tags": []
          },
          "execution_count": 22
        }
      ]
    },
    {
      "cell_type": "code",
      "metadata": {
        "colab": {
          "base_uri": "https://localhost:8080/"
        },
        "id": "CkOxl1ymJv3Q",
        "outputId": "e612f929-37d4-4c09-a89a-56793340bdae"
      },
      "source": [
        "print(a)\n",
        "print(b)"
      ],
      "execution_count": 23,
      "outputs": [
        {
          "output_type": "stream",
          "text": [
            "1\n",
            "tensor(1)\n"
          ],
          "name": "stdout"
        }
      ]
    },
    {
      "cell_type": "markdown",
      "metadata": {
        "id": "DhiATdHUJ3Lt"
      },
      "source": [
        "## Operações com Tensores"
      ]
    },
    {
      "cell_type": "code",
      "metadata": {
        "colab": {
          "base_uri": "https://localhost:8080/"
        },
        "id": "_MJr9KokJ1LP",
        "outputId": "23befec4-417b-4230-e77f-9e238ee98731"
      },
      "source": [
        "t1 = torch.tensor(12)\n",
        "t2 = torch.tensor(4)\n",
        "print(t1)\n",
        "print(t2)"
      ],
      "execution_count": 24,
      "outputs": [
        {
          "output_type": "stream",
          "text": [
            "tensor(12)\n",
            "tensor(4)\n"
          ],
          "name": "stdout"
        }
      ]
    },
    {
      "cell_type": "code",
      "metadata": {
        "colab": {
          "base_uri": "https://localhost:8080/"
        },
        "id": "sj7pVNZnKP2u",
        "outputId": "6dbd5d4e-2d76-4c96-afef-8f053b78da7d"
      },
      "source": [
        "# soma\n",
        "print(t1 + t2)\n",
        "# subtração\n",
        "print(t1 - t2)"
      ],
      "execution_count": 25,
      "outputs": [
        {
          "output_type": "stream",
          "text": [
            "tensor(16)\n",
            "tensor(8)\n"
          ],
          "name": "stdout"
        }
      ]
    },
    {
      "cell_type": "code",
      "metadata": {
        "colab": {
          "base_uri": "https://localhost:8080/"
        },
        "id": "2UJl3uCSKcqh",
        "outputId": "504e8d96-e9ae-4b3e-aa24-228b8cd161ef"
      },
      "source": [
        "# multiplicação\n",
        "print(t1 * t2)\n",
        "# divisao\n",
        "print(t1 // t2)"
      ],
      "execution_count": 26,
      "outputs": [
        {
          "output_type": "stream",
          "text": [
            "tensor(48)\n",
            "tensor(3)\n"
          ],
          "name": "stdout"
        },
        {
          "output_type": "stream",
          "text": [
            "/usr/local/lib/python3.7/dist-packages/torch/_tensor.py:575: UserWarning: floor_divide is deprecated, and will be removed in a future version of pytorch. It currently rounds toward 0 (like the 'trunc' function NOT 'floor'). This results in incorrect rounding for negative values.\n",
            "To keep the current behavior, use torch.div(a, b, rounding_mode='trunc'), or for actual floor division, use torch.div(a, b, rounding_mode='floor'). (Triggered internally at  /pytorch/aten/src/ATen/native/BinaryOps.cpp:467.)\n",
            "  return torch.floor_divide(self, other)\n"
          ],
          "name": "stderr"
        }
      ]
    },
    {
      "cell_type": "markdown",
      "metadata": {
        "id": "X8Pi-iTsKv0z"
      },
      "source": [
        "## Operações com Matrizes"
      ]
    },
    {
      "cell_type": "code",
      "metadata": {
        "colab": {
          "base_uri": "https://localhost:8080/"
        },
        "id": "OGZ18b93KrMO",
        "outputId": "64cee08f-324d-4973-ffc7-6b3fe977fe5a"
      },
      "source": [
        "# Matriz (tensor rank 2) de numeros randomicos\n",
        "t_rank2 = torch.randn(3,3)\n",
        "t_rank2"
      ],
      "execution_count": 27,
      "outputs": [
        {
          "output_type": "execute_result",
          "data": {
            "text/plain": [
              "tensor([[ 1.0691,  0.9017,  0.4375],\n",
              "        [ 0.2036, -1.0476, -0.3142],\n",
              "        [-0.3791, -1.1183, -0.8081]])"
            ]
          },
          "metadata": {
            "tags": []
          },
          "execution_count": 27
        }
      ]
    },
    {
      "cell_type": "code",
      "metadata": {
        "colab": {
          "base_uri": "https://localhost:8080/"
        },
        "id": "vTIpkWCFLJx9",
        "outputId": "80608706-d88a-4a20-f3f6-2019e5fb4c58"
      },
      "source": [
        "# Matriz (tensor rank 3) de numeros randomicos\n",
        "t_rank3 = torch.randn(3,3,3)\n",
        "t_rank3"
      ],
      "execution_count": 28,
      "outputs": [
        {
          "output_type": "execute_result",
          "data": {
            "text/plain": [
              "tensor([[[ 0.0462, -0.4828, -1.6350],\n",
              "         [ 0.3295, -1.3484,  1.5081],\n",
              "         [ 0.9853,  0.5514, -0.8245]],\n",
              "\n",
              "        [[ 0.3276, -1.0132,  1.0975],\n",
              "         [-2.5345, -1.5911,  0.8066],\n",
              "         [ 0.2183,  2.8317, -0.6591]],\n",
              "\n",
              "        [[-1.1804, -0.9621,  0.1837],\n",
              "         [-1.3123, -0.1546,  0.2192],\n",
              "         [-0.9843,  1.5976, -0.9578]]])"
            ]
          },
          "metadata": {
            "tags": []
          },
          "execution_count": 28
        }
      ]
    },
    {
      "cell_type": "code",
      "metadata": {
        "colab": {
          "base_uri": "https://localhost:8080/"
        },
        "id": "B6yNk8wQLUUN",
        "outputId": "8b42b44b-f09d-47d7-fbc3-c36efeb81b0d"
      },
      "source": [
        "# Matriz (tensor rank 4) de numeros randomicos\n",
        "t_rank4 = torch.randn(3,3,3,3)\n",
        "t_rank4"
      ],
      "execution_count": 29,
      "outputs": [
        {
          "output_type": "execute_result",
          "data": {
            "text/plain": [
              "tensor([[[[ 0.5430, -0.1201,  0.2736],\n",
              "          [ 0.8281,  0.7519,  0.9619],\n",
              "          [ 0.3815,  1.2447, -0.4777]],\n",
              "\n",
              "         [[ 0.2743, -1.7100, -0.0835],\n",
              "          [-1.1392,  0.5190, -1.4369],\n",
              "          [ 0.6250,  0.8036, -0.0686]],\n",
              "\n",
              "         [[-2.4140,  0.6513, -0.1174],\n",
              "          [-0.0174,  0.6948, -1.0731],\n",
              "          [-0.3198, -0.7364,  0.4290]]],\n",
              "\n",
              "\n",
              "        [[[-1.4422,  1.3562, -0.7337],\n",
              "          [-1.1256,  0.5969,  0.9830],\n",
              "          [ 1.1538,  2.5647,  1.7782]],\n",
              "\n",
              "         [[ 0.8020, -0.1177,  0.6923],\n",
              "          [-0.3840, -1.2216,  1.3025],\n",
              "          [-0.0170, -0.2320, -0.5935]],\n",
              "\n",
              "         [[-0.2886, -1.9042, -1.9643],\n",
              "          [ 0.2283,  0.4676,  0.4810],\n",
              "          [-1.5127, -0.7565,  0.8881]]],\n",
              "\n",
              "\n",
              "        [[[ 0.5510,  0.7444, -1.3514],\n",
              "          [ 0.4240, -1.1568,  0.9911],\n",
              "          [ 1.2233,  2.2147, -0.7106]],\n",
              "\n",
              "         [[ 1.3184,  0.1809,  0.9534],\n",
              "          [ 0.4565,  0.0981,  1.2337],\n",
              "          [ 0.0438, -0.3697, -1.3200]],\n",
              "\n",
              "         [[-0.5134,  0.6400,  1.4618],\n",
              "          [ 0.7967, -0.3000, -1.4172],\n",
              "          [-0.4676, -0.7908,  0.0557]]]])"
            ]
          },
          "metadata": {
            "tags": []
          },
          "execution_count": 29
        }
      ]
    },
    {
      "cell_type": "code",
      "metadata": {
        "id": "aMxR7DpZLcXr"
      },
      "source": [
        "# Multiplicação entre 2 tensores\n",
        "A = torch.tensor([[1, 2, 3], [4, 5, 6], [7, 8, 9]])\n",
        "B = torch.tensor([[9, 8, 7], [6, 5, 4], [3, 2, 1]])\n"
      ],
      "execution_count": 30,
      "outputs": []
    },
    {
      "cell_type": "code",
      "metadata": {
        "colab": {
          "base_uri": "https://localhost:8080/"
        },
        "id": "RQPaFjguM8VR",
        "outputId": "4a702cae-4273-4fcd-e029-25ec2f8a43e1"
      },
      "source": [
        "A.shape"
      ],
      "execution_count": 31,
      "outputs": [
        {
          "output_type": "execute_result",
          "data": {
            "text/plain": [
              "torch.Size([3, 3])"
            ]
          },
          "metadata": {
            "tags": []
          },
          "execution_count": 31
        }
      ]
    },
    {
      "cell_type": "code",
      "metadata": {
        "colab": {
          "base_uri": "https://localhost:8080/"
        },
        "id": "jkVAEOImM_kk",
        "outputId": "d63bea9f-da81-4c21-f080-e43b525ab443"
      },
      "source": [
        "B.shape"
      ],
      "execution_count": 32,
      "outputs": [
        {
          "output_type": "execute_result",
          "data": {
            "text/plain": [
              "torch.Size([3, 3])"
            ]
          },
          "metadata": {
            "tags": []
          },
          "execution_count": 32
        }
      ]
    },
    {
      "cell_type": "code",
      "metadata": {
        "colab": {
          "base_uri": "https://localhost:8080/"
        },
        "id": "fCL6k2lfNEEw",
        "outputId": "94cb28f0-e5af-4ef9-cea4-92af5bbcd687"
      },
      "source": [
        "resultado1 = A * B\n",
        "print(resultado1)"
      ],
      "execution_count": 33,
      "outputs": [
        {
          "output_type": "stream",
          "text": [
            "tensor([[ 9, 16, 21],\n",
            "        [24, 25, 24],\n",
            "        [21, 16,  9]])\n"
          ],
          "name": "stdout"
        }
      ]
    },
    {
      "cell_type": "code",
      "metadata": {
        "colab": {
          "base_uri": "https://localhost:8080/"
        },
        "id": "QnVDWJHRNOPU",
        "outputId": "36c95f0b-8460-47c7-83c6-84de4791eb02"
      },
      "source": [
        "resultado2 = torch.matmul(A, B)\n",
        "print(resultado2)"
      ],
      "execution_count": 34,
      "outputs": [
        {
          "output_type": "stream",
          "text": [
            "tensor([[ 30,  24,  18],\n",
            "        [ 84,  69,  54],\n",
            "        [138, 114,  90]])\n"
          ],
          "name": "stdout"
        }
      ]
    },
    {
      "cell_type": "code",
      "metadata": {
        "colab": {
          "base_uri": "https://localhost:8080/"
        },
        "id": "AsXWMES6NnbF",
        "outputId": "98c84ebf-0ab6-448a-fb87-e072bda5edda"
      },
      "source": [
        "resultado3 = torch.sum(A * B)\n",
        "print(resultado3)"
      ],
      "execution_count": 35,
      "outputs": [
        {
          "output_type": "stream",
          "text": [
            "tensor(165)\n"
          ],
          "name": "stdout"
        }
      ]
    },
    {
      "cell_type": "markdown",
      "metadata": {
        "id": "CWPf7P6pOI5u"
      },
      "source": [
        "Para multiplicação de matrizes, fazemos assim em PyTorch"
      ]
    },
    {
      "cell_type": "code",
      "metadata": {
        "id": "h1IxTT7dN279"
      },
      "source": [
        "AB1 = A.mm(B)\n",
        "# ou\n",
        "AB2 = torch.mm(A, B)\n",
        "# ou\n",
        "AB3 = torch.matmul(A, B)\n",
        "# Ou assim (Python 3.5+)\n",
        "AB4 = A @ B"
      ],
      "execution_count": 36,
      "outputs": []
    },
    {
      "cell_type": "code",
      "metadata": {
        "colab": {
          "base_uri": "https://localhost:8080/"
        },
        "id": "QOVqcQn5PZBU",
        "outputId": "75a4eff4-22c2-42fc-ab52-176dd4cab27c"
      },
      "source": [
        "print(AB1)\n",
        "print(AB2)\n",
        "print(AB3)\n",
        "print(AB4) "
      ],
      "execution_count": 37,
      "outputs": [
        {
          "output_type": "stream",
          "text": [
            "tensor([[ 30,  24,  18],\n",
            "        [ 84,  69,  54],\n",
            "        [138, 114,  90]])\n",
            "tensor([[ 30,  24,  18],\n",
            "        [ 84,  69,  54],\n",
            "        [138, 114,  90]])\n",
            "tensor([[ 30,  24,  18],\n",
            "        [ 84,  69,  54],\n",
            "        [138, 114,  90]])\n",
            "tensor([[ 30,  24,  18],\n",
            "        [ 84,  69,  54],\n",
            "        [138, 114,  90]])\n"
          ],
          "name": "stdout"
        }
      ]
    },
    {
      "cell_type": "code",
      "metadata": {
        "colab": {
          "base_uri": "https://localhost:8080/"
        },
        "id": "P37De0-WPfM5",
        "outputId": "1c78b1d3-e7f8-4f68-9bcc-00f527468618"
      },
      "source": [
        "# Multiplicação de matrizes\n",
        "A @ B"
      ],
      "execution_count": 38,
      "outputs": [
        {
          "output_type": "execute_result",
          "data": {
            "text/plain": [
              "tensor([[ 30,  24,  18],\n",
              "        [ 84,  69,  54],\n",
              "        [138, 114,  90]])"
            ]
          },
          "metadata": {
            "tags": []
          },
          "execution_count": 38
        }
      ]
    },
    {
      "cell_type": "markdown",
      "metadata": {
        "id": "yqTC1uDiPux9"
      },
      "source": [
        "Essa notação realiza multiplicação element-wise:"
      ]
    },
    {
      "cell_type": "code",
      "metadata": {
        "colab": {
          "base_uri": "https://localhost:8080/"
        },
        "id": "YuRo9FbZPra8",
        "outputId": "25b900d5-c991-4e2f-d906-ced9a4ca6734"
      },
      "source": [
        "A * B"
      ],
      "execution_count": 39,
      "outputs": [
        {
          "output_type": "execute_result",
          "data": {
            "text/plain": [
              "tensor([[ 9, 16, 21],\n",
              "        [24, 25, 24],\n",
              "        [21, 16,  9]])"
            ]
          },
          "metadata": {
            "tags": []
          },
          "execution_count": 39
        }
      ]
    },
    {
      "cell_type": "code",
      "metadata": {
        "id": "6wEYQep-P5sa"
      },
      "source": [
        "# Usando seed para iniciar 2 tensores com valores randômicos\n",
        "torch.manual_seed(42)\n",
        "a = torch.randn(3,3)\n",
        "b = torch.randn(3,3)"
      ],
      "execution_count": 40,
      "outputs": []
    },
    {
      "cell_type": "code",
      "metadata": {
        "colab": {
          "base_uri": "https://localhost:8080/"
        },
        "id": "JrKuZ0pARAgk",
        "outputId": "e13e5802-5fec-4c9f-e60c-5964045e6b3b"
      },
      "source": [
        "# Adição de matrizes\n",
        "print(torch.add(a, b))"
      ],
      "execution_count": 41,
      "outputs": [
        {
          "output_type": "stream",
          "text": [
            "tensor([[ 0.6040,  0.6637,  1.0438],\n",
            "        [ 1.3406, -2.8127, -1.1753],\n",
            "        [ 3.1662,  0.6841,  1.2788]])\n"
          ],
          "name": "stdout"
        }
      ]
    },
    {
      "cell_type": "code",
      "metadata": {
        "colab": {
          "base_uri": "https://localhost:8080/"
        },
        "id": "aunPHvpQRLMX",
        "outputId": "ab461b4b-d3d9-4b37-fb67-2165d64bc27c"
      },
      "source": [
        "# subtração de matrizes\n",
        "print(torch.sub(a, b))"
      ],
      "execution_count": 42,
      "outputs": [
        {
          "output_type": "stream",
          "text": [
            "tensor([[ 0.0693, -0.4061, -0.5749],\n",
            "        [-0.8800,  0.5669,  0.8026],\n",
            "        [ 1.2502, -1.9601, -0.3555]])\n"
          ],
          "name": "stdout"
        }
      ]
    },
    {
      "cell_type": "code",
      "metadata": {
        "colab": {
          "base_uri": "https://localhost:8080/"
        },
        "id": "nfX7M7QZRWFe",
        "outputId": "adb307ee-42bf-46a2-eb39-3b34fa7d34e5"
      },
      "source": [
        "# multiplicação de matrizes\n",
        "print(torch.mm(a, b))"
      ],
      "execution_count": 43,
      "outputs": [
        {
          "output_type": "stream",
          "text": [
            "tensor([[ 0.4576,  0.2724,  0.3367],\n",
            "        [-1.3636,  1.7743,  1.1446],\n",
            "        [ 0.3243,  2.8696,  2.7954]])\n"
          ],
          "name": "stdout"
        }
      ]
    },
    {
      "cell_type": "code",
      "metadata": {
        "colab": {
          "base_uri": "https://localhost:8080/"
        },
        "id": "kv_Ept7nRitU",
        "outputId": "4e4ddd3d-513a-4bcc-fcd2-8a1f579f2890"
      },
      "source": [
        "# divisão de matrizes\n",
        "print(torch.div(a, b))"
      ],
      "execution_count": 44,
      "outputs": [
        {
          "output_type": "stream",
          "text": [
            "tensor([[ 1.2594,  0.2408,  0.2897],\n",
            "        [ 0.2075,  0.6645,  0.1884],\n",
            "        [ 2.3051, -0.4826,  0.5649]])\n"
          ],
          "name": "stdout"
        }
      ]
    },
    {
      "cell_type": "code",
      "metadata": {
        "colab": {
          "base_uri": "https://localhost:8080/"
        },
        "id": "fTmtVeSsRvxh",
        "outputId": "b90c3d37-fb27-40b2-d081-5ff4459a7eb4"
      },
      "source": [
        "# matriz original\n",
        "print(a, '\\n')\n",
        "\n",
        "# transposta da matriz\n",
        "print(torch.t(a))"
      ],
      "execution_count": 45,
      "outputs": [
        {
          "output_type": "stream",
          "text": [
            "tensor([[ 0.3367,  0.1288,  0.2345],\n",
            "        [ 0.2303, -1.1229, -0.1863],\n",
            "        [ 2.2082, -0.6380,  0.4617]]) \n",
            "\n",
            "tensor([[ 0.3367,  0.2303,  2.2082],\n",
            "        [ 0.1288, -1.1229, -0.6380],\n",
            "        [ 0.2345, -0.1863,  0.4617]])\n"
          ],
          "name": "stdout"
        }
      ]
    },
    {
      "cell_type": "code",
      "metadata": {
        "id": "1kxDOyfcSDF7"
      },
      "source": [
        ""
      ],
      "execution_count": null,
      "outputs": []
    }
  ]
}